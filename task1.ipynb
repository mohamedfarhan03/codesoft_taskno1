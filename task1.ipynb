{
  "nbformat": 4,
  "nbformat_minor": 0,
  "metadata": {
    "colab": {
      "provenance": []
    },
    "kernelspec": {
      "name": "python3",
      "display_name": "Python 3"
    },
    "language_info": {
      "name": "python"
    }
  },
  "cells": [
    {
      "cell_type": "code",
      "execution_count": null,
      "metadata": {
        "id": "E8YOymblfCYY",
        "colab": {
          "base_uri": "https://localhost:8080/"
        },
        "outputId": "63b9a8af-6494-4c21-8c0e-021136e27653"
      },
      "outputs": [
        {
          "output_type": "stream",
          "name": "stdout",
          "text": [
            "You: hi\n",
            "Chatbot: Hello! How can I assist you today?\n",
            "You: whats the date\n",
            "Chatbot: Today's date is 2024-07-18.\n",
            "You: how are you\n",
            "Chatbot: I'm not sure how to respond to that. Can you please rephrase?\n",
            "You: whats the time\n",
            "Chatbot: The current time is 15:37:54.\n",
            "You: bye\n",
            "Chatbot: Goodbye! Have a great day!\n"
          ]
        }
      ],
      "source": [
        "def get_response(user_input):\n",
        "    user_input = user_input.lower()\n",
        "\n",
        "    # Greeting responses\n",
        "    if \"hello\" in user_input or \"hi\" in user_input:\n",
        "        return \"Hello! How can I assist you today?\"\n",
        "\n",
        "    # Farewell responses\n",
        "    elif \"bye\" in user_input or \"goodbye\" in user_input:\n",
        "        return \"Goodbye! Have a great day!\"\n",
        "\n",
        "    # Asking for help\n",
        "    elif \"help\" in user_input or \"assist\" in user_input:\n",
        "        return \"Sure, I'm here to help. What do you need assistance with?\"\n",
        "\n",
        "    # Asking for the time\n",
        "    elif \"time\" in user_input:\n",
        "        from datetime import datetime\n",
        "        return f\"The current time is {datetime.now().strftime('%H:%M:%S')}.\"\n",
        "\n",
        "    # Asking for the date\n",
        "    elif \"date\" in user_input:\n",
        "        from datetime import datetime\n",
        "        return f\"Today's date is {datetime.now().strftime('%Y-%m-%d')}.\"\n",
        "\n",
        "    # General responses\n",
        "    else:\n",
        "        return \"I'm not sure how to respond to that. Can you please rephrase?\"\n",
        "\n",
        "# Main loop to interact with the chatbot\n",
        "while True:\n",
        "    user_input = input(\"You: \")\n",
        "    if user_input.lower() in [\"exit\", \"quit\", \"bye\"]:\n",
        "        print(\"Chatbot: Goodbye! Have a great day!\")\n",
        "        break\n",
        "    response = get_response(user_input)\n",
        "    print(f\"Chatbot: {response}\")\n"
      ]
    }
  ]
}